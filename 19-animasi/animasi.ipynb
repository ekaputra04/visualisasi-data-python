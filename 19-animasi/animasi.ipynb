{
 "cells": [
  {
   "cell_type": "markdown",
   "metadata": {},
   "source": [
    "Animasi pada Matplotlib "
   ]
  },
  {
   "cell_type": "code",
   "execution_count": 3,
   "metadata": {},
   "outputs": [],
   "source": [
    "import matplotlib.pyplot as plt\n",
    "import numpy as np\n",
    "from matplotlib.animation import FuncAnimation\n",
    "from IPython import display"
   ]
  },
  {
   "cell_type": "code",
   "execution_count": 4,
   "metadata": {},
   "outputs": [
    {
     "name": "stdout",
     "output_type": "stream",
     "text": [
      "['pillow', 'html']\n"
     ]
    }
   ],
   "source": [
    "import matplotlib.animation as animation\n",
    "print(animation.writers.list())"
   ]
  },
  {
   "cell_type": "markdown",
   "metadata": {},
   "source": [
    "Review Figure"
   ]
  },
  {
   "cell_type": "code",
   "execution_count": 5,
   "metadata": {},
   "outputs": [
    {
     "name": "stdout",
     "output_type": "stream",
     "text": [
      "[<matplotlib.lines.Line2D object at 0x000002616E9B3ED0>]\n"
     ]
    },
    {
     "data": {
      "image/png": "[encoded data removed]",
      "text/plain": [
       "<Figure size 640x480 with 1 Axes>"
      ]
     },
     "metadata": {},
     "output_type": "display_data"
    }
   ],
   "source": [
    "fig = plt.figure()\n",
    "\n",
    "plt.xlim((0, 4))\n",
    "plt.ylim((-2, 2))\n",
    "\n",
    "print(plt.plot([]))"
   ]
  },
  {
   "cell_type": "markdown",
   "metadata": {},
   "source": [
    "Animasi pada Matplotlib"
   ]
  },
  {
   "cell_type": "code",
   "execution_count": 12,
   "metadata": {},
   "outputs": [],
   "source": [
    "fig = plt.figure()\n",
    "\n",
    "plt.xlim((0, 4))\n",
    "plt.ylim((-2, 2))\n",
    "\n",
    "line = plt.plot([])[0]\n",
    "\n",
    "def animate(i):\n",
    "  x = np.linspace(0, 4, 1000)\n",
    "  y = np.sin(2 * np.pi * (x - 0.1 * i))\n",
    "  line.set_data(x, y)\n",
    "  return line,\n",
    "\n",
    "anim = FuncAnimation(fig, animate, frames=200, interval=50)\n",
    "\n",
    "# video = anim.to_html5_video()\n",
    "# html = display.HTML(video)\n",
    "# display.display(html)\n",
    "\n",
    "# Simpan animasi sebagai file video gif\n",
    "anim.save('animation.gif', writer='pillow')\n",
    "\n",
    "plt.close()"
   ]
  }
 ],
 "metadata": {
  "kernelspec": {
   "display_name": "Python 3",
   "language": "python",
   "name": "python3"
  },
  "language_info": {
   "codemirror_mode": {
    "name": "ipython",
    "version": 3
   },
   "file_extension": ".py",
   "mimetype": "text/x-python",
   "name": "python",
   "nbconvert_exporter": "python",
   "pygments_lexer": "ipython3",
   "version": "3.11.5"
  }
 },
 "nbformat": 4,
 "nbformat_minor": 2
}
